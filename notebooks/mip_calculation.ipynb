{
 "cells": [
  {
   "cell_type": "code",
   "execution_count": 1,
   "id": "29247302-3b5d-4602-ae07-9f97bca6cf27",
   "metadata": {},
   "outputs": [],
   "source": [
    "!pip install -r ../requirements.txt\n",
    "\n",
    "import sys\n",
    "sys.path.append('../src')\n",
    "\n",
    "from calculateMIPs import *"
   ]
  },
  {
   "cell_type": "markdown",
   "id": "5b7f90bc-0e82-4b6f-9384-24df64f9eeb9",
   "metadata": {},
   "source": [
    "# Configuration and Variable Declaration"
   ]
  },
  {
   "cell_type": "code",
   "execution_count": 2,
   "id": "34ecb2cc-517e-4ee6-b47e-7bdab980f518",
   "metadata": {},
   "outputs": [],
   "source": [
    "# In data file\n",
    "data_file_name = '../analysis_files/run_287.csv'"
   ]
  },
  {
   "cell_type": "markdown",
   "id": "2880ba75-4649-40cb-8b60-d8d405b129fc",
   "metadata": {},
   "source": [
    "# Calculate MIPs\n",
    "\n",
    "The main part of calculating MIPs, is selecting a region in sum of ADC space that encourages fit convergence of a Landau+Gaussian. This was found, ad-hoc, by excluding a portion of the pedestal region. This is a bit touchy, but the metric used here is a sum of ADC > x * std dev of the pedestal. The \"x\" parameter is sort of found by hand at this stage, and is unique to each channel.\n",
    "\n",
    "This package includes a csv file of \"x\" parameters: ../calibrations/mip_fit_cut.csv. However, the code also (hopefully) allows a relatively easy way to determine these parameters by setting \"calc_multipliers\" to True when calling the class definition. If this parameter is set to True, pass the layer (\"which_layer\") and the end (\"which_end\") to the main \"get_mips\" function. This will allow one to experiment with different \"x\" parameters, broken into the layer and end you are interested in. You can pass a list of \"x\" parameters into the \"ad_hoc_layer_multipler\" field, which will apply these ad-hoc parameters for experimentation. When \"calc_multipliers\" is passed, a new csv is created \"../calibrations/temp_mip_fit_cut.csv\" and any call to the \"get_mips\" function will override or create \"x\" parameters for the given layer and end according to the \"ad_hoc_layer_multipler\" list."
   ]
  },
  {
   "cell_type": "code",
   "execution_count": 5,
   "id": "ebc3bc4b-0b37-42da-ab60-ea8cd7ab6cc3",
   "metadata": {},
   "outputs": [],
   "source": [
    "# Initialize class (if you want to debug, you can look at only one bar by setting do_one_bar to True)\n",
    "# First, lets demonstrate the case when using the provided \"x\" parameters\n",
    "make_mips = calculateMIPs(data_file_name, mip_fit_cut_file_name='../calibrations/mip_fit_cut.csv', plot_mips=True, do_one_bar=False)"
   ]
  },
  {
   "cell_type": "code",
   "execution_count": 1,
   "id": "89b7f074-c6e8-40d7-aff8-852f893e399d",
   "metadata": {},
   "outputs": [],
   "source": [
    "make_mips.get_mips()"
   ]
  },
  {
   "cell_type": "code",
   "execution_count": 2,
   "id": "6672c123-f5e8-4689-8e43-9308bf909951",
   "metadata": {},
   "outputs": [],
   "source": [
    "# Next, lets demonstrate the case when testing your own \"x\" parameters\n",
    "make_mips = calculateMIPs(data_file_name, calc_multipliers=True)"
   ]
  },
  {
   "cell_type": "code",
   "execution_count": 3,
   "id": "9e5a3346-b34c-4b2d-b5d7-96582b72931d",
   "metadata": {},
   "outputs": [],
   "source": [
    "## left off at layer 1, end 1\n",
    "which_layer = 1\n",
    "which_end = 0\n",
    "ad_hoc_layer_multipler = [10,10,10,10,10,10,10,10,10,10] # \"x\"= 10 standard deviations above pedestal for bars 0,1,2,3,4,5,6,7 (in order)\n",
    "make_mips.get_mips(which_layer=which_layer, which_end=which_end, ad_hoc_layer_multipler=ad_hoc_layer_multipler)"
   ]
  },
  {
   "cell_type": "code",
   "execution_count": null,
   "id": "292e21d7-add6-4591-a5d9-cda3856e22d3",
   "metadata": {},
   "outputs": [],
   "source": []
  }
 ],
 "metadata": {
  "kernelspec": {
   "display_name": "Python 3 (ipykernel)",
   "language": "python",
   "name": "python3"
  },
  "language_info": {
   "codemirror_mode": {
    "name": "ipython",
    "version": 3
   },
   "file_extension": ".py",
   "mimetype": "text/x-python",
   "name": "python",
   "nbconvert_exporter": "python",
   "pygments_lexer": "ipython3",
   "version": "3.11.6"
  }
 },
 "nbformat": 4,
 "nbformat_minor": 5
}
