{
 "cells": [
  {
   "cell_type": "code",
   "execution_count": 1,
   "id": "29247302-3b5d-4602-ae07-9f97bca6cf27",
   "metadata": {},
   "outputs": [],
   "source": [
    "!pip install -r ../requirements.txt\n",
    "\n",
    "import sys\n",
    "sys.path.append('../src')\n",
    "\n",
    "from calculatePedestals import *"
   ]
  },
  {
   "cell_type": "markdown",
   "id": "5b7f90bc-0e82-4b6f-9384-24df64f9eeb9",
   "metadata": {},
   "source": [
    "# Configuration and Variable Declaration"
   ]
  },
  {
   "cell_type": "code",
   "execution_count": 2,
   "id": "34ecb2cc-517e-4ee6-b47e-7bdab980f518",
   "metadata": {},
   "outputs": [],
   "source": [
    "# In data file\n",
    "data_file_name = '../data/ntuple_decoded_fpga_0_run_287_20220425_073812.root'\n",
    "\n",
    "# Initialize class (if you want to debug, you can look at only one bar by setting do_one_bar to True)\n",
    "make_pedestals = calculatePedestals(data_file_name, plot_pedestals=True, plots_directory='../plots/pedestals', do_one_bar=False)"
   ]
  },
  {
   "cell_type": "markdown",
   "id": "2880ba75-4649-40cb-8b60-d8d405b129fc",
   "metadata": {},
   "source": [
    "# Calculate Pedestals\n",
    "\n",
    "The pedestal is calculated for both subtraction off individual time samples as well as a pedestal for subtracting off the sum of ADC case. The underlying function does this somewhat separately in the code. In principle, this is a straightforward calculation and doesn't need any additional processing loops (sum_ped = 8*individ_ped). However, I wanted to calculate the mean and RMS of the sum of ADC pedestal, for possible use in selection criteria which is easier to do in a separate loop. This is a long-winded way of saying this code may take a bit of time to run."
   ]
  },
  {
   "cell_type": "code",
   "execution_count": 1,
   "id": "89b7f074-c6e8-40d7-aff8-852f893e399d",
   "metadata": {},
   "outputs": [],
   "source": [
    "make_pedestals.get_pedestals()"
   ]
  }
 ],
 "metadata": {
  "kernelspec": {
   "display_name": "Python 3 (ipykernel)",
   "language": "python",
   "name": "python3"
  },
  "language_info": {
   "codemirror_mode": {
    "name": "ipython",
    "version": 3
   },
   "file_extension": ".py",
   "mimetype": "text/x-python",
   "name": "python",
   "nbconvert_exporter": "python",
   "pygments_lexer": "ipython3",
   "version": "3.11.6"
  }
 },
 "nbformat": 4,
 "nbformat_minor": 5
}
