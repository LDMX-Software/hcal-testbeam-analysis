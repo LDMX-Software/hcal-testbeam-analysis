{
 "cells": [
  {
   "cell_type": "markdown",
   "id": "cc597c34-8f3c-4af9-a4ba-52c68ba66b90",
   "metadata": {},
   "source": [
    "This example notebook shows an example of ADC-TOT cross-calibration for an example channel, using data from run 300. But, where I've just guessed some parameters to make the TOT-to-ADC correction! Not using the charge injections at all. "
   ]
  },
  {
   "cell_type": "code",
   "execution_count": 1,
   "id": "84e18f3c-954a-4b13-ba04-708b0335903a",
   "metadata": {},
   "outputs": [
    {
     "name": "stdout",
     "output_type": "stream",
     "text": [
      "Requirement already satisfied: pandas>=2.1.3 in /home/ewallin/Programming/TOTCalibration/venv/lib/python3.10/site-packages (from -r ../requirements.txt (line 1)) (2.2.3)\n",
      "Requirement already satisfied: numpy>=1.26.2 in /home/ewallin/Programming/TOTCalibration/venv/lib/python3.10/site-packages (from -r ../requirements.txt (line 2)) (2.2.1)\n",
      "Requirement already satisfied: uproot>=5.1.2 in /home/ewallin/Programming/TOTCalibration/venv/lib/python3.10/site-packages (from -r ../requirements.txt (line 3)) (5.5.1)\n",
      "Requirement already satisfied: scipy>=1.11.4 in /home/ewallin/Programming/TOTCalibration/venv/lib/python3.10/site-packages (from -r ../requirements.txt (line 4)) (1.14.1)\n",
      "Requirement already satisfied: matplotlib>=3.8.2 in /home/ewallin/Programming/TOTCalibration/venv/lib/python3.10/site-packages (from -r ../requirements.txt (line 5)) (3.10.0)\n",
      "Requirement already satisfied: matplotlib-inline>=0.1.6 in /home/ewallin/Programming/TOTCalibration/venv/lib/python3.10/site-packages (from -r ../requirements.txt (line 6)) (0.1.7)\n",
      "Requirement already satisfied: mplhep>=0.3.31 in /home/ewallin/Programming/TOTCalibration/venv/lib/python3.10/site-packages (from -r ../requirements.txt (line 7)) (0.3.55)\n",
      "Requirement already satisfied: mplhep-data>=0.0.3 in /home/ewallin/Programming/TOTCalibration/venv/lib/python3.10/site-packages (from -r ../requirements.txt (line 8)) (0.0.4)\n",
      "Requirement already satisfied: pylandau>=2.2.1 in /home/ewallin/Programming/TOTCalibration/venv/lib/python3.10/site-packages (from -r ../requirements.txt (line 9)) (2.2.1)\n",
      "Requirement already satisfied: python-dateutil>=2.8.2 in /home/ewallin/Programming/TOTCalibration/venv/lib/python3.10/site-packages (from pandas>=2.1.3->-r ../requirements.txt (line 1)) (2.9.0.post0)\n",
      "Requirement already satisfied: pytz>=2020.1 in /home/ewallin/Programming/TOTCalibration/venv/lib/python3.10/site-packages (from pandas>=2.1.3->-r ../requirements.txt (line 1)) (2024.2)\n",
      "Requirement already satisfied: tzdata>=2022.7 in /home/ewallin/Programming/TOTCalibration/venv/lib/python3.10/site-packages (from pandas>=2.1.3->-r ../requirements.txt (line 1)) (2024.2)\n",
      "Requirement already satisfied: fsspec in /home/ewallin/Programming/TOTCalibration/venv/lib/python3.10/site-packages (from uproot>=5.1.2->-r ../requirements.txt (line 3)) (2024.12.0)\n",
      "Requirement already satisfied: typing-extensions>=4.1.0 in /home/ewallin/Programming/TOTCalibration/venv/lib/python3.10/site-packages (from uproot>=5.1.2->-r ../requirements.txt (line 3)) (4.12.2)\n",
      "Requirement already satisfied: awkward>=2.4.6 in /home/ewallin/Programming/TOTCalibration/venv/lib/python3.10/site-packages (from uproot>=5.1.2->-r ../requirements.txt (line 3)) (2.7.2)\n",
      "Requirement already satisfied: xxhash in /home/ewallin/Programming/TOTCalibration/venv/lib/python3.10/site-packages (from uproot>=5.1.2->-r ../requirements.txt (line 3)) (3.5.0)\n",
      "Requirement already satisfied: packaging in /home/ewallin/Programming/TOTCalibration/venv/lib/python3.10/site-packages (from uproot>=5.1.2->-r ../requirements.txt (line 3)) (24.2)\n",
      "Requirement already satisfied: cramjam>=2.5.0 in /home/ewallin/Programming/TOTCalibration/venv/lib/python3.10/site-packages (from uproot>=5.1.2->-r ../requirements.txt (line 3)) (2.9.1)\n",
      "Requirement already satisfied: contourpy>=1.0.1 in /home/ewallin/Programming/TOTCalibration/venv/lib/python3.10/site-packages (from matplotlib>=3.8.2->-r ../requirements.txt (line 5)) (1.3.1)\n",
      "Requirement already satisfied: pillow>=8 in /home/ewallin/Programming/TOTCalibration/venv/lib/python3.10/site-packages (from matplotlib>=3.8.2->-r ../requirements.txt (line 5)) (11.0.0)\n",
      "Requirement already satisfied: fonttools>=4.22.0 in /home/ewallin/Programming/TOTCalibration/venv/lib/python3.10/site-packages (from matplotlib>=3.8.2->-r ../requirements.txt (line 5)) (4.55.3)\n",
      "Requirement already satisfied: pyparsing>=2.3.1 in /home/ewallin/Programming/TOTCalibration/venv/lib/python3.10/site-packages (from matplotlib>=3.8.2->-r ../requirements.txt (line 5)) (3.2.0)\n",
      "Requirement already satisfied: kiwisolver>=1.3.1 in /home/ewallin/Programming/TOTCalibration/venv/lib/python3.10/site-packages (from matplotlib>=3.8.2->-r ../requirements.txt (line 5)) (1.4.7)\n",
      "Requirement already satisfied: cycler>=0.10 in /home/ewallin/Programming/TOTCalibration/venv/lib/python3.10/site-packages (from matplotlib>=3.8.2->-r ../requirements.txt (line 5)) (0.12.1)\n",
      "Requirement already satisfied: traitlets in /home/ewallin/Programming/TOTCalibration/venv/lib/python3.10/site-packages (from matplotlib-inline>=0.1.6->-r ../requirements.txt (line 6)) (5.14.3)\n",
      "Requirement already satisfied: uhi>=0.2.0 in /home/ewallin/Programming/TOTCalibration/venv/lib/python3.10/site-packages (from mplhep>=0.3.31->-r ../requirements.txt (line 7)) (0.5.0)\n",
      "Requirement already satisfied: cython>=0.29 in /home/ewallin/Programming/TOTCalibration/venv/lib/python3.10/site-packages (from pylandau>=2.2.1->-r ../requirements.txt (line 9)) (3.0.11)\n",
      "Requirement already satisfied: awkward-cpp==43 in /home/ewallin/Programming/TOTCalibration/venv/lib/python3.10/site-packages (from awkward>=2.4.6->uproot>=5.1.2->-r ../requirements.txt (line 3)) (43)\n",
      "Requirement already satisfied: importlib-metadata>=4.13.0 in /home/ewallin/Programming/TOTCalibration/venv/lib/python3.10/site-packages (from awkward>=2.4.6->uproot>=5.1.2->-r ../requirements.txt (line 3)) (8.5.0)\n",
      "Requirement already satisfied: six>=1.5 in /home/ewallin/Programming/TOTCalibration/venv/lib/python3.10/site-packages (from python-dateutil>=2.8.2->pandas>=2.1.3->-r ../requirements.txt (line 1)) (1.17.0)\n",
      "Requirement already satisfied: zipp>=3.20 in /home/ewallin/Programming/TOTCalibration/venv/lib/python3.10/site-packages (from importlib-metadata>=4.13.0->awkward>=2.4.6->uproot>=5.1.2->-r ../requirements.txt (line 3)) (3.21.0)\n"
     ]
    }
   ],
   "source": [
    "!pip install -r ../requirements.txt\n",
    "\n",
    "import sys\n",
    "sys.path.append('../src')\n",
    "import matplotlib\n",
    "import matplotlib.pyplot as plt\n",
    "import matplotlib.colors as mcolors\n",
    "from matplotlib.cm import get_cmap\n",
    "import math\n",
    "#import mplhep as hep\n",
    "#hep.style.use(hep.style.ATLAS)\n",
    "\n",
    "from selectCleanEvents import *"
   ]
  },
  {
   "cell_type": "code",
   "execution_count": 2,
   "id": "5843046d-d99a-4b90-8fac-6fa9dabab753",
   "metadata": {},
   "outputs": [],
   "source": [
    "electrons = pd.read_csv('../analysis_files/run_300_aligned.csv')"
   ]
  },
  {
   "cell_type": "code",
   "execution_count": 3,
   "id": "f4952c6a-bb2c-4671-b34c-e4f1b270c7bd",
   "metadata": {},
   "outputs": [],
   "source": [
    "events = electrons.loc[electrons['layer'] == 7].loc[electrons['strip'] == 4]"
   ]
  },
  {
   "cell_type": "code",
   "execution_count": 4,
   "id": "954b5903-47d1-4a9e-a739-27313b1757a2",
   "metadata": {},
   "outputs": [],
   "source": [
    "adcsum = []\n",
    "alladc = []\n",
    "tot = []\n",
    "alltot = []\n",
    "#totcorrected = []\n",
    "\n",
    "collected = []\n",
    "\n",
    "#print(totthreshold)\n",
    "\n",
    "for index, row in events.iterrows():\n",
    "    alladc.append(row['adc_sum_end1'])\n",
    "    alltot.append(row['tot_end1'])\n",
    "    #print(row['adc_sum_end0'], row['tot_end0'])\n",
    "    if row['tot_end1'] < 750 and row['adc_sum_end1'] > 3700:\n",
    "        continue\n",
    "    elif row['tot_end1'] < 1000:\n",
    "        #adcsum.append(row['adc_sum_end1'])\n",
    "        adcsum.append(row['adc_sum_end1'])\n",
    "        collected.append(row['adc_sum_end1'])\n",
    "    else:\n",
    "        #t = row['tot_end1']*2.2+1000\n",
    "        #t = row['tot_end1']*2.0+1100\n",
    "        t = row['tot_end1']*3+300\n",
    "        tot.append(t)\n",
    "        collected.append(t)\n",
    "        #t = row['tot_end1']\n",
    "        #if t > max(TOTs):\n",
    "        #    p = max(TOTs)\n",
    "        #index = 0\n",
    "        ##for i in range(0,len(TOTs)):\n",
    "        #    if TOTs[i] >= t:\n",
    "        #        index = i\n",
    "        #        break\n",
    "        #totcorrected.append(sumADCs[i])\n",
    "        #collected.append(sumADCs[i])\n",
    "\n",
    "        "
   ]
  },
  {
   "cell_type": "code",
   "execution_count": 12,
   "id": "fc204eb5-7ee2-4c75-b291-b434b4b3dcc4",
   "metadata": {},
   "outputs": [
    {
     "data": {
      "image/png": "[encoded data removed]",
      "text/plain": [
       "<Figure size 900x600 with 1 Axes>"
      ]
     },
     "metadata": {},
     "output_type": "display_data"
    }
   ],
   "source": [
    "fig = plt.figure(figsize=(9,6))\n",
    "\n",
    "bins = np.linspace(0,10000,100)\n",
    "\n",
    "plt.hist(tot, bins=bins, histtype=\"step\", color=\"black\", label=\"Corrected TOT\")\n",
    "plt.hist(adcsum, bins=bins, histtype=\"step\", color=\"brown\", label=\"ADC\")\n",
    "plt.hist(collected,bins=bins, label=\"Sum\")\n",
    "plt.yscale(\"log\")\n",
    "plt.xlabel(\"sum of ADC\")\n",
    "plt.legend()\n",
    "plt.show()\n"
   ]
  },
  {
   "cell_type": "code",
   "execution_count": null,
   "id": "857b8f69-967d-4595-b9b9-6118ebcf6c38",
   "metadata": {},
   "outputs": [],
   "source": []
  }
 ],
 "metadata": {
  "kernelspec": {
   "display_name": "Python 3 (ipykernel)",
   "language": "python",
   "name": "python3"
  },
  "language_info": {
   "codemirror_mode": {
    "name": "ipython",
    "version": 3
   },
   "file_extension": ".py",
   "mimetype": "text/x-python",
   "name": "python",
   "nbconvert_exporter": "python",
   "pygments_lexer": "ipython3",
   "version": "3.10.12"
  }
 },
 "nbformat": 4,
 "nbformat_minor": 5
}
