{
 "cells": [
  {
   "cell_type": "code",
   "execution_count": 1,
   "id": "4bb3e5cc-517c-4049-9f2d-d88850d379c0",
   "metadata": {},
   "outputs": [],
   "source": [
    "!pip install -r ../requirements.txt\n",
    "\n",
    "import sys\n",
    "sys.path.append('../src')\n",
    "\n",
    "from makeAnalysisFiles import *"
   ]
  },
  {
   "cell_type": "markdown",
   "id": "6e8401b9-d3d8-43df-bfce-ef9a8fa9e1cd",
   "metadata": {},
   "source": [
    "# Configuration and Variable Declaration"
   ]
  },
  {
   "cell_type": "code",
   "execution_count": 2,
   "id": "a1d39794-6dac-4dbc-9e13-c8d27ef6f8d5",
   "metadata": {},
   "outputs": [],
   "source": [
    "# In data files (this can be a list if performing alignment of FPGAs, or a str if only looking at one FPGA)\n",
    "data_file_name = ['../data/ntuple_decoded_fpga_0_run_287_20220425_073812.root','../data/ntuple_decoded_fpga_1_run_287_20220425_073812.root']\n",
    "\n",
    "# Initialize class (if you want to debug, you can look at only one bar by setting do_one_bar to True)\n",
    "# Set do_alignment to True if you want to align two FPGAs of the same run\n",
    "make_files = makeAnalysisFiles(data_file_name, do_one_bar=False, do_alignment=True)"
   ]
  },
  {
   "cell_type": "markdown",
   "id": "7d833e6b-cafd-45b7-b14d-ba5f7b072afd",
   "metadata": {},
   "source": [
    "# Transform Data into Usable Format\n",
    "\n",
    "I see this as a first iteration of the final format that should be used for analysis. Output is a csv file with calibrations applied (TOA and eventually TOT), and 8 ADC/TOT/TOA samples collapsed into a sum. Default path for new files is \"analysis_files\"."
   ]
  },
  {
   "cell_type": "code",
   "execution_count": 3,
   "id": "85c6d986-e7c7-442f-b800-8f7a3fc376ce",
   "metadata": {},
   "outputs": [],
   "source": [
    "make_files.create_dataframes()"
   ]
  },
  {
   "cell_type": "markdown",
   "id": "3c0a195f-9eef-4cef-be93-bd6061103098",
   "metadata": {},
   "source": [
    "# Optional (and dirty) cell to plot many things from your brand new DataFrame"
   ]
  },
  {
   "cell_type": "code",
   "execution_count": 4,
   "id": "07476c95-1c2b-49bb-815f-57c90a25135b",
   "metadata": {},
   "outputs": [],
   "source": [
    "in_csv_file = ['../analysis_files/run_287_fpga_0.csv','../analysis_files/run_287_fpga_1.csv']\n",
    "make_files.make_plots(in_csv_file=in_csv_file,plots_directory='../plots/run_287')"
   ]
  }
 ],
 "metadata": {
  "kernelspec": {
   "display_name": "Python 3 (ipykernel)",
   "language": "python",
   "name": "python3"
  },
  "language_info": {
   "codemirror_mode": {
    "name": "ipython",
    "version": 3
   },
   "file_extension": ".py",
   "mimetype": "text/x-python",
   "name": "python",
   "nbconvert_exporter": "python",
   "pygments_lexer": "ipython3",
   "version": "3.11.6"
  }
 },
 "nbformat": 4,
 "nbformat_minor": 5
}
